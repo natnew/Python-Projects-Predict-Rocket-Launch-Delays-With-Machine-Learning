{
  "nbformat": 4,
  "nbformat_minor": 0,
  "metadata": {
    "colab": {
      "name": "Predict rocket launch delays with machine learning.ipynb",
      "provenance": [],
      "collapsed_sections": [],
      "authorship_tag": "ABX9TyMzGgzLLOAOgQfcGhNXRXtv",
      "include_colab_link": true
    },
    "kernelspec": {
      "name": "python3",
      "display_name": "Python 3"
    },
    "language_info": {
      "name": "python"
    }
  },
  "cells": [
    {
      "cell_type": "markdown",
      "metadata": {
        "id": "view-in-github",
        "colab_type": "text"
      },
      "source": [
        "<a href=\"https://colab.research.google.com/github/natnew/Python-Projects-Predict-Rocket-Launch-Delays-With-Machine-Learning/blob/main/Predict_rocket_launch_delays_with_machine_learning.ipynb\" target=\"_parent\"><img src=\"https://colab.research.google.com/assets/colab-badge.svg\" alt=\"Open In Colab\"/></a>"
      ]
    },
    {
      "cell_type": "markdown",
      "metadata": {
        "id": "47lMvsieitJX"
      },
      "source": [
        "#IMPORT LIBRARIES"
      ]
    },
    {
      "cell_type": "code",
      "metadata": {
        "id": "t4tlswUmidNY"
      },
      "source": [
        "# Pandas library is used for handling tabular data\n",
        "import pandas as pd\n",
        "\n",
        "# NumPy is used for handling numerical series operations (addition, multiplication, and ...)\n",
        "\n",
        "import numpy as np\n",
        "# Sklearn library contains all the machine learning packages we need to digest and extract patterns from the data\n",
        "from sklearn import linear_model, model_selection, metrics\n",
        "from sklearn.model_selection import train_test_split\n",
        "\n",
        "# Machine learning libraries used to build a decision tree\n",
        "from sklearn.tree import DecisionTreeClassifier\n",
        "from sklearn import tree\n",
        "\n",
        "# Sklearn's preprocessing library is used for processing and cleaning the data \n",
        "from sklearn import preprocessing\n",
        "\n",
        "# for visualizing the tree\n",
        "import pydotplus\n",
        "from IPython.display import Image"
      ],
      "execution_count": 1,
      "outputs": []
    },
    {
      "cell_type": "markdown",
      "metadata": {
        "id": "18IhBr2Ni1Nh"
      },
      "source": [
        "#READ DATA INTO A VARIABLE"
      ]
    },
    {
      "cell_type": "code",
      "metadata": {
        "colab": {
          "base_uri": "https://localhost:8080/",
          "height": 323
        },
        "id": "AF_CX6eBihOQ",
        "outputId": "f3cfee5c-7be4-4447-f495-a1f2eeeeeb46"
      },
      "source": [
        "launch_data = pd.read_excel('RocketLaunchDataCompleted.xlsx')\n",
        "launch_data.head()"
      ],
      "execution_count": 2,
      "outputs": [
        {
          "output_type": "execute_result",
          "data": {
            "text/html": [
              "<div>\n",
              "<style scoped>\n",
              "    .dataframe tbody tr th:only-of-type {\n",
              "        vertical-align: middle;\n",
              "    }\n",
              "\n",
              "    .dataframe tbody tr th {\n",
              "        vertical-align: top;\n",
              "    }\n",
              "\n",
              "    .dataframe thead th {\n",
              "        text-align: right;\n",
              "    }\n",
              "</style>\n",
              "<table border=\"1\" class=\"dataframe\">\n",
              "  <thead>\n",
              "    <tr style=\"text-align: right;\">\n",
              "      <th></th>\n",
              "      <th>Name</th>\n",
              "      <th>Date</th>\n",
              "      <th>Time (East Coast)</th>\n",
              "      <th>Location</th>\n",
              "      <th>Crewed or Uncrewed</th>\n",
              "      <th>Launched?</th>\n",
              "      <th>High Temp</th>\n",
              "      <th>Low Temp</th>\n",
              "      <th>Ave Temp</th>\n",
              "      <th>Temp at Launch Time</th>\n",
              "      <th>Hist High Temp</th>\n",
              "      <th>Hist Low Temp</th>\n",
              "      <th>Hist Ave Temp</th>\n",
              "      <th>Percipitation at Launch Time</th>\n",
              "      <th>Hist Ave Percipitation</th>\n",
              "      <th>Wind Direction</th>\n",
              "      <th>Max Wind Speed</th>\n",
              "      <th>Visibility</th>\n",
              "      <th>Wind Speed at Launch Time</th>\n",
              "      <th>Hist Ave Max Wind Speed</th>\n",
              "      <th>Hist Ave Visibility</th>\n",
              "      <th>Sea Level Pressure</th>\n",
              "      <th>Hist Ave Sea Level Pressure</th>\n",
              "      <th>Day Length</th>\n",
              "      <th>Condition</th>\n",
              "      <th>Notes</th>\n",
              "    </tr>\n",
              "  </thead>\n",
              "  <tbody>\n",
              "    <tr>\n",
              "      <th>0</th>\n",
              "      <td>NaN</td>\n",
              "      <td>1958-12-04</td>\n",
              "      <td>NaN</td>\n",
              "      <td>Cape Canaveral</td>\n",
              "      <td>NaN</td>\n",
              "      <td>NaN</td>\n",
              "      <td>75.0</td>\n",
              "      <td>68.0</td>\n",
              "      <td>71.00</td>\n",
              "      <td>NaN</td>\n",
              "      <td>75.0</td>\n",
              "      <td>55.0</td>\n",
              "      <td>65.0</td>\n",
              "      <td>0.0</td>\n",
              "      <td>0.08</td>\n",
              "      <td>E</td>\n",
              "      <td>16.0</td>\n",
              "      <td>15.0</td>\n",
              "      <td>NaN</td>\n",
              "      <td>NaN</td>\n",
              "      <td>NaN</td>\n",
              "      <td>30.22</td>\n",
              "      <td>NaN</td>\n",
              "      <td>10:26:00</td>\n",
              "      <td>Cloudy</td>\n",
              "      <td>NaN</td>\n",
              "    </tr>\n",
              "    <tr>\n",
              "      <th>1</th>\n",
              "      <td>NaN</td>\n",
              "      <td>1958-12-05</td>\n",
              "      <td>NaN</td>\n",
              "      <td>Cape Canaveral</td>\n",
              "      <td>NaN</td>\n",
              "      <td>NaN</td>\n",
              "      <td>78.0</td>\n",
              "      <td>70.0</td>\n",
              "      <td>73.39</td>\n",
              "      <td>NaN</td>\n",
              "      <td>75.0</td>\n",
              "      <td>55.0</td>\n",
              "      <td>65.0</td>\n",
              "      <td>0.0</td>\n",
              "      <td>0.09</td>\n",
              "      <td>E</td>\n",
              "      <td>14.0</td>\n",
              "      <td>10.0</td>\n",
              "      <td>NaN</td>\n",
              "      <td>NaN</td>\n",
              "      <td>NaN</td>\n",
              "      <td>30.2</td>\n",
              "      <td>NaN</td>\n",
              "      <td>10:26:00</td>\n",
              "      <td>Cloudy</td>\n",
              "      <td>NaN</td>\n",
              "    </tr>\n",
              "    <tr>\n",
              "      <th>2</th>\n",
              "      <td>Pioneer 3</td>\n",
              "      <td>1958-12-06</td>\n",
              "      <td>01:45:00</td>\n",
              "      <td>Cape Canaveral</td>\n",
              "      <td>Uncrewed</td>\n",
              "      <td>Y</td>\n",
              "      <td>73.0</td>\n",
              "      <td>0.0</td>\n",
              "      <td>60.21</td>\n",
              "      <td>62.0</td>\n",
              "      <td>75.0</td>\n",
              "      <td>55.0</td>\n",
              "      <td>65.0</td>\n",
              "      <td>0.0</td>\n",
              "      <td>0.09</td>\n",
              "      <td>NE</td>\n",
              "      <td>15.0</td>\n",
              "      <td>10.0</td>\n",
              "      <td>11.0</td>\n",
              "      <td>NaN</td>\n",
              "      <td>NaN</td>\n",
              "      <td>30.25</td>\n",
              "      <td>NaN</td>\n",
              "      <td>10:25:00</td>\n",
              "      <td>Cloudy</td>\n",
              "      <td>NaN</td>\n",
              "    </tr>\n",
              "    <tr>\n",
              "      <th>3</th>\n",
              "      <td>NaN</td>\n",
              "      <td>1958-12-07</td>\n",
              "      <td>NaN</td>\n",
              "      <td>Cape Canaveral</td>\n",
              "      <td>NaN</td>\n",
              "      <td>NaN</td>\n",
              "      <td>76.0</td>\n",
              "      <td>57.0</td>\n",
              "      <td>66.04</td>\n",
              "      <td>NaN</td>\n",
              "      <td>75.0</td>\n",
              "      <td>55.0</td>\n",
              "      <td>65.0</td>\n",
              "      <td>0.0</td>\n",
              "      <td>0.08</td>\n",
              "      <td>N</td>\n",
              "      <td>10.0</td>\n",
              "      <td>10.0</td>\n",
              "      <td>NaN</td>\n",
              "      <td>NaN</td>\n",
              "      <td>NaN</td>\n",
              "      <td>30.28</td>\n",
              "      <td>NaN</td>\n",
              "      <td>10:25:00</td>\n",
              "      <td>Partly Cloudy</td>\n",
              "      <td>NaN</td>\n",
              "    </tr>\n",
              "    <tr>\n",
              "      <th>4</th>\n",
              "      <td>NaN</td>\n",
              "      <td>1958-12-08</td>\n",
              "      <td>NaN</td>\n",
              "      <td>Cape Canaveral</td>\n",
              "      <td>NaN</td>\n",
              "      <td>NaN</td>\n",
              "      <td>79.0</td>\n",
              "      <td>60.0</td>\n",
              "      <td>70.52</td>\n",
              "      <td>NaN</td>\n",
              "      <td>75.0</td>\n",
              "      <td>55.0</td>\n",
              "      <td>65.0</td>\n",
              "      <td>0.0</td>\n",
              "      <td>0.09</td>\n",
              "      <td>E</td>\n",
              "      <td>12.0</td>\n",
              "      <td>10.0</td>\n",
              "      <td>NaN</td>\n",
              "      <td>NaN</td>\n",
              "      <td>NaN</td>\n",
              "      <td>30.23</td>\n",
              "      <td>NaN</td>\n",
              "      <td>12:24:00</td>\n",
              "      <td>Partly Cloudy</td>\n",
              "      <td>NaN</td>\n",
              "    </tr>\n",
              "  </tbody>\n",
              "</table>\n",
              "</div>"
            ],
            "text/plain": [
              "        Name       Date Time (East Coast)  ... Day Length      Condition Notes\n",
              "0        NaN 1958-12-04               NaN  ...   10:26:00         Cloudy   NaN\n",
              "1        NaN 1958-12-05               NaN  ...   10:26:00         Cloudy   NaN\n",
              "2  Pioneer 3 1958-12-06          01:45:00  ...   10:25:00         Cloudy   NaN\n",
              "3        NaN 1958-12-07               NaN  ...   10:25:00  Partly Cloudy   NaN\n",
              "4        NaN 1958-12-08               NaN  ...   12:24:00  Partly Cloudy   NaN\n",
              "\n",
              "[5 rows x 26 columns]"
            ]
          },
          "metadata": {},
          "execution_count": 2
        }
      ]
    },
    {
      "cell_type": "markdown",
      "metadata": {
        "id": "qn3OUtUii5As"
      },
      "source": [
        "#EXPLORE DATA"
      ]
    },
    {
      "cell_type": "code",
      "metadata": {
        "colab": {
          "base_uri": "https://localhost:8080/"
        },
        "id": "HAV-96XjikUP",
        "outputId": "fdc0a5b9-967e-4102-99a2-0011dc113df6"
      },
      "source": [
        "launch_data.columns"
      ],
      "execution_count": 3,
      "outputs": [
        {
          "output_type": "execute_result",
          "data": {
            "text/plain": [
              "Index(['Name', 'Date', 'Time (East Coast)', 'Location', 'Crewed or Uncrewed',\n",
              "       'Launched?', 'High Temp', 'Low Temp', 'Ave Temp', 'Temp at Launch Time',\n",
              "       'Hist High Temp', 'Hist Low Temp', 'Hist Ave Temp',\n",
              "       'Percipitation at Launch Time', 'Hist Ave Percipitation',\n",
              "       'Wind Direction', 'Max Wind Speed', 'Visibility',\n",
              "       'Wind Speed at Launch Time', 'Hist Ave Max Wind Speed',\n",
              "       'Hist Ave Visibility', 'Sea Level Pressure',\n",
              "       'Hist Ave Sea Level Pressure', 'Day Length', 'Condition', 'Notes'],\n",
              "      dtype='object')"
            ]
          },
          "metadata": {},
          "execution_count": 3
        }
      ]
    },
    {
      "cell_type": "markdown",
      "metadata": {
        "id": "J-DKipi-jk4h"
      },
      "source": [
        "#DATA CLEANING"
      ]
    },
    {
      "cell_type": "code",
      "metadata": {
        "colab": {
          "base_uri": "https://localhost:8080/"
        },
        "id": "bY0OBTJkjng7",
        "outputId": "b47efaeb-eea4-4a85-8208-e8f354afd812"
      },
      "source": [
        "launch_data.info()"
      ],
      "execution_count": 4,
      "outputs": [
        {
          "output_type": "stream",
          "name": "stdout",
          "text": [
            "<class 'pandas.core.frame.DataFrame'>\n",
            "RangeIndex: 300 entries, 0 to 299\n",
            "Data columns (total 26 columns):\n",
            " #   Column                        Non-Null Count  Dtype         \n",
            "---  ------                        --------------  -----         \n",
            " 0   Name                          60 non-null     object        \n",
            " 1   Date                          300 non-null    datetime64[ns]\n",
            " 2   Time (East Coast)             59 non-null     object        \n",
            " 3   Location                      300 non-null    object        \n",
            " 4   Crewed or Uncrewed            60 non-null     object        \n",
            " 5   Launched?                     60 non-null     object        \n",
            " 6   High Temp                     299 non-null    float64       \n",
            " 7   Low Temp                      299 non-null    float64       \n",
            " 8   Ave Temp                      299 non-null    float64       \n",
            " 9   Temp at Launch Time           59 non-null     float64       \n",
            " 10  Hist High Temp                299 non-null    float64       \n",
            " 11  Hist Low Temp                 299 non-null    float64       \n",
            " 12  Hist Ave Temp                 299 non-null    float64       \n",
            " 13  Percipitation at Launch Time  299 non-null    float64       \n",
            " 14  Hist Ave Percipitation        299 non-null    float64       \n",
            " 15  Wind Direction                299 non-null    object        \n",
            " 16  Max Wind Speed                299 non-null    float64       \n",
            " 17  Visibility                    299 non-null    float64       \n",
            " 18  Wind Speed at Launch Time     59 non-null     float64       \n",
            " 19  Hist Ave Max Wind Speed       0 non-null      float64       \n",
            " 20  Hist Ave Visibility           0 non-null      float64       \n",
            " 21  Sea Level Pressure            299 non-null    object        \n",
            " 22  Hist Ave Sea Level Pressure   0 non-null      float64       \n",
            " 23  Day Length                    298 non-null    object        \n",
            " 24  Condition                     298 non-null    object        \n",
            " 25  Notes                         3 non-null      object        \n",
            "dtypes: datetime64[ns](1), float64(15), object(10)\n",
            "memory usage: 61.1+ KB\n"
          ]
        }
      ]
    },
    {
      "cell_type": "code",
      "metadata": {
        "colab": {
          "base_uri": "https://localhost:8080/",
          "height": 323
        },
        "id": "k5slCKkLkNfX",
        "outputId": "fb040d98-b1ff-4a51-bc8a-032e6bed0af8"
      },
      "source": [
        "## To handle missing values, we will fill the missing values with appropriate values \n",
        "launch_data['Launched?'].fillna('N',inplace=True)\n",
        "launch_data['Crewed or Uncrewed'].fillna('Uncrewed',inplace=True)\n",
        "launch_data['Wind Direction'].fillna('unknown',inplace=True)\n",
        "launch_data['Condition'].fillna('Fair',inplace=True)\n",
        "launch_data.fillna(0,inplace=True)\n",
        "launch_data.head()"
      ],
      "execution_count": 5,
      "outputs": [
        {
          "output_type": "execute_result",
          "data": {
            "text/html": [
              "<div>\n",
              "<style scoped>\n",
              "    .dataframe tbody tr th:only-of-type {\n",
              "        vertical-align: middle;\n",
              "    }\n",
              "\n",
              "    .dataframe tbody tr th {\n",
              "        vertical-align: top;\n",
              "    }\n",
              "\n",
              "    .dataframe thead th {\n",
              "        text-align: right;\n",
              "    }\n",
              "</style>\n",
              "<table border=\"1\" class=\"dataframe\">\n",
              "  <thead>\n",
              "    <tr style=\"text-align: right;\">\n",
              "      <th></th>\n",
              "      <th>Name</th>\n",
              "      <th>Date</th>\n",
              "      <th>Time (East Coast)</th>\n",
              "      <th>Location</th>\n",
              "      <th>Crewed or Uncrewed</th>\n",
              "      <th>Launched?</th>\n",
              "      <th>High Temp</th>\n",
              "      <th>Low Temp</th>\n",
              "      <th>Ave Temp</th>\n",
              "      <th>Temp at Launch Time</th>\n",
              "      <th>Hist High Temp</th>\n",
              "      <th>Hist Low Temp</th>\n",
              "      <th>Hist Ave Temp</th>\n",
              "      <th>Percipitation at Launch Time</th>\n",
              "      <th>Hist Ave Percipitation</th>\n",
              "      <th>Wind Direction</th>\n",
              "      <th>Max Wind Speed</th>\n",
              "      <th>Visibility</th>\n",
              "      <th>Wind Speed at Launch Time</th>\n",
              "      <th>Hist Ave Max Wind Speed</th>\n",
              "      <th>Hist Ave Visibility</th>\n",
              "      <th>Sea Level Pressure</th>\n",
              "      <th>Hist Ave Sea Level Pressure</th>\n",
              "      <th>Day Length</th>\n",
              "      <th>Condition</th>\n",
              "      <th>Notes</th>\n",
              "    </tr>\n",
              "  </thead>\n",
              "  <tbody>\n",
              "    <tr>\n",
              "      <th>0</th>\n",
              "      <td>0</td>\n",
              "      <td>1958-12-04</td>\n",
              "      <td>0</td>\n",
              "      <td>Cape Canaveral</td>\n",
              "      <td>Uncrewed</td>\n",
              "      <td>N</td>\n",
              "      <td>75.0</td>\n",
              "      <td>68.0</td>\n",
              "      <td>71.00</td>\n",
              "      <td>0.0</td>\n",
              "      <td>75.0</td>\n",
              "      <td>55.0</td>\n",
              "      <td>65.0</td>\n",
              "      <td>0.0</td>\n",
              "      <td>0.08</td>\n",
              "      <td>E</td>\n",
              "      <td>16.0</td>\n",
              "      <td>15.0</td>\n",
              "      <td>0.0</td>\n",
              "      <td>0.0</td>\n",
              "      <td>0.0</td>\n",
              "      <td>30.22</td>\n",
              "      <td>0.0</td>\n",
              "      <td>10:26:00</td>\n",
              "      <td>Cloudy</td>\n",
              "      <td>0</td>\n",
              "    </tr>\n",
              "    <tr>\n",
              "      <th>1</th>\n",
              "      <td>0</td>\n",
              "      <td>1958-12-05</td>\n",
              "      <td>0</td>\n",
              "      <td>Cape Canaveral</td>\n",
              "      <td>Uncrewed</td>\n",
              "      <td>N</td>\n",
              "      <td>78.0</td>\n",
              "      <td>70.0</td>\n",
              "      <td>73.39</td>\n",
              "      <td>0.0</td>\n",
              "      <td>75.0</td>\n",
              "      <td>55.0</td>\n",
              "      <td>65.0</td>\n",
              "      <td>0.0</td>\n",
              "      <td>0.09</td>\n",
              "      <td>E</td>\n",
              "      <td>14.0</td>\n",
              "      <td>10.0</td>\n",
              "      <td>0.0</td>\n",
              "      <td>0.0</td>\n",
              "      <td>0.0</td>\n",
              "      <td>30.2</td>\n",
              "      <td>0.0</td>\n",
              "      <td>10:26:00</td>\n",
              "      <td>Cloudy</td>\n",
              "      <td>0</td>\n",
              "    </tr>\n",
              "    <tr>\n",
              "      <th>2</th>\n",
              "      <td>Pioneer 3</td>\n",
              "      <td>1958-12-06</td>\n",
              "      <td>01:45:00</td>\n",
              "      <td>Cape Canaveral</td>\n",
              "      <td>Uncrewed</td>\n",
              "      <td>Y</td>\n",
              "      <td>73.0</td>\n",
              "      <td>0.0</td>\n",
              "      <td>60.21</td>\n",
              "      <td>62.0</td>\n",
              "      <td>75.0</td>\n",
              "      <td>55.0</td>\n",
              "      <td>65.0</td>\n",
              "      <td>0.0</td>\n",
              "      <td>0.09</td>\n",
              "      <td>NE</td>\n",
              "      <td>15.0</td>\n",
              "      <td>10.0</td>\n",
              "      <td>11.0</td>\n",
              "      <td>0.0</td>\n",
              "      <td>0.0</td>\n",
              "      <td>30.25</td>\n",
              "      <td>0.0</td>\n",
              "      <td>10:25:00</td>\n",
              "      <td>Cloudy</td>\n",
              "      <td>0</td>\n",
              "    </tr>\n",
              "    <tr>\n",
              "      <th>3</th>\n",
              "      <td>0</td>\n",
              "      <td>1958-12-07</td>\n",
              "      <td>0</td>\n",
              "      <td>Cape Canaveral</td>\n",
              "      <td>Uncrewed</td>\n",
              "      <td>N</td>\n",
              "      <td>76.0</td>\n",
              "      <td>57.0</td>\n",
              "      <td>66.04</td>\n",
              "      <td>0.0</td>\n",
              "      <td>75.0</td>\n",
              "      <td>55.0</td>\n",
              "      <td>65.0</td>\n",
              "      <td>0.0</td>\n",
              "      <td>0.08</td>\n",
              "      <td>N</td>\n",
              "      <td>10.0</td>\n",
              "      <td>10.0</td>\n",
              "      <td>0.0</td>\n",
              "      <td>0.0</td>\n",
              "      <td>0.0</td>\n",
              "      <td>30.28</td>\n",
              "      <td>0.0</td>\n",
              "      <td>10:25:00</td>\n",
              "      <td>Partly Cloudy</td>\n",
              "      <td>0</td>\n",
              "    </tr>\n",
              "    <tr>\n",
              "      <th>4</th>\n",
              "      <td>0</td>\n",
              "      <td>1958-12-08</td>\n",
              "      <td>0</td>\n",
              "      <td>Cape Canaveral</td>\n",
              "      <td>Uncrewed</td>\n",
              "      <td>N</td>\n",
              "      <td>79.0</td>\n",
              "      <td>60.0</td>\n",
              "      <td>70.52</td>\n",
              "      <td>0.0</td>\n",
              "      <td>75.0</td>\n",
              "      <td>55.0</td>\n",
              "      <td>65.0</td>\n",
              "      <td>0.0</td>\n",
              "      <td>0.09</td>\n",
              "      <td>E</td>\n",
              "      <td>12.0</td>\n",
              "      <td>10.0</td>\n",
              "      <td>0.0</td>\n",
              "      <td>0.0</td>\n",
              "      <td>0.0</td>\n",
              "      <td>30.23</td>\n",
              "      <td>0.0</td>\n",
              "      <td>12:24:00</td>\n",
              "      <td>Partly Cloudy</td>\n",
              "      <td>0</td>\n",
              "    </tr>\n",
              "  </tbody>\n",
              "</table>\n",
              "</div>"
            ],
            "text/plain": [
              "        Name       Date Time (East Coast)  ... Day Length      Condition Notes\n",
              "0          0 1958-12-04                 0  ...   10:26:00         Cloudy     0\n",
              "1          0 1958-12-05                 0  ...   10:26:00         Cloudy     0\n",
              "2  Pioneer 3 1958-12-06          01:45:00  ...   10:25:00         Cloudy     0\n",
              "3          0 1958-12-07                 0  ...   10:25:00  Partly Cloudy     0\n",
              "4          0 1958-12-08                 0  ...   12:24:00  Partly Cloudy     0\n",
              "\n",
              "[5 rows x 26 columns]"
            ]
          },
          "metadata": {},
          "execution_count": 5
        }
      ]
    },
    {
      "cell_type": "markdown",
      "metadata": {
        "id": "0Y385a_ekdKp"
      },
      "source": [
        "#SEE CHANGES MADE TO THE DATA"
      ]
    },
    {
      "cell_type": "code",
      "metadata": {
        "colab": {
          "base_uri": "https://localhost:8080/"
        },
        "id": "kbqeF_gOkXMi",
        "outputId": "cd9c4743-46b3-4098-a4db-ac9c6c3bb93f"
      },
      "source": [
        "launch_data.info()"
      ],
      "execution_count": 6,
      "outputs": [
        {
          "output_type": "stream",
          "name": "stdout",
          "text": [
            "<class 'pandas.core.frame.DataFrame'>\n",
            "RangeIndex: 300 entries, 0 to 299\n",
            "Data columns (total 26 columns):\n",
            " #   Column                        Non-Null Count  Dtype         \n",
            "---  ------                        --------------  -----         \n",
            " 0   Name                          300 non-null    object        \n",
            " 1   Date                          300 non-null    datetime64[ns]\n",
            " 2   Time (East Coast)             300 non-null    object        \n",
            " 3   Location                      300 non-null    object        \n",
            " 4   Crewed or Uncrewed            300 non-null    object        \n",
            " 5   Launched?                     300 non-null    object        \n",
            " 6   High Temp                     300 non-null    float64       \n",
            " 7   Low Temp                      300 non-null    float64       \n",
            " 8   Ave Temp                      300 non-null    float64       \n",
            " 9   Temp at Launch Time           300 non-null    float64       \n",
            " 10  Hist High Temp                300 non-null    float64       \n",
            " 11  Hist Low Temp                 300 non-null    float64       \n",
            " 12  Hist Ave Temp                 300 non-null    float64       \n",
            " 13  Percipitation at Launch Time  300 non-null    float64       \n",
            " 14  Hist Ave Percipitation        300 non-null    float64       \n",
            " 15  Wind Direction                300 non-null    object        \n",
            " 16  Max Wind Speed                300 non-null    float64       \n",
            " 17  Visibility                    300 non-null    float64       \n",
            " 18  Wind Speed at Launch Time     300 non-null    float64       \n",
            " 19  Hist Ave Max Wind Speed       300 non-null    float64       \n",
            " 20  Hist Ave Visibility           300 non-null    float64       \n",
            " 21  Sea Level Pressure            300 non-null    object        \n",
            " 22  Hist Ave Sea Level Pressure   300 non-null    float64       \n",
            " 23  Day Length                    300 non-null    object        \n",
            " 24  Condition                     300 non-null    object        \n",
            " 25  Notes                         300 non-null    object        \n",
            "dtypes: datetime64[ns](1), float64(15), object(10)\n",
            "memory usage: 61.1+ KB\n"
          ]
        }
      ]
    },
    {
      "cell_type": "markdown",
      "metadata": {
        "id": "1PnGc4apkucV"
      },
      "source": [
        "#DATA MANIPULATION"
      ]
    },
    {
      "cell_type": "code",
      "metadata": {
        "id": "KWT5p5kTkxpm"
      },
      "source": [
        "## As part of the data cleaning process, we have to convert text data to numerical because computers understand only numbers\n",
        "label_encoder = preprocessing.LabelEncoder()\n",
        "\n",
        "# Three columns have categorical text info, and we convert them to numbers\n",
        "launch_data['Crewed or Uncrewed'] = label_encoder.fit_transform(launch_data['Crewed or Uncrewed'])\n",
        "launch_data['Wind Direction'] = label_encoder.fit_transform(launch_data['Wind Direction'])\n",
        "launch_data['Condition'] = label_encoder.fit_transform(launch_data['Condition'])"
      ],
      "execution_count": 7,
      "outputs": []
    },
    {
      "cell_type": "code",
      "metadata": {
        "colab": {
          "base_uri": "https://localhost:8080/",
          "height": 323
        },
        "id": "Qijf81zFk2V2",
        "outputId": "2fb2a25d-e2cb-4a95-df0b-c7928a262944"
      },
      "source": [
        "launch_data.head()"
      ],
      "execution_count": 8,
      "outputs": [
        {
          "output_type": "execute_result",
          "data": {
            "text/html": [
              "<div>\n",
              "<style scoped>\n",
              "    .dataframe tbody tr th:only-of-type {\n",
              "        vertical-align: middle;\n",
              "    }\n",
              "\n",
              "    .dataframe tbody tr th {\n",
              "        vertical-align: top;\n",
              "    }\n",
              "\n",
              "    .dataframe thead th {\n",
              "        text-align: right;\n",
              "    }\n",
              "</style>\n",
              "<table border=\"1\" class=\"dataframe\">\n",
              "  <thead>\n",
              "    <tr style=\"text-align: right;\">\n",
              "      <th></th>\n",
              "      <th>Name</th>\n",
              "      <th>Date</th>\n",
              "      <th>Time (East Coast)</th>\n",
              "      <th>Location</th>\n",
              "      <th>Crewed or Uncrewed</th>\n",
              "      <th>Launched?</th>\n",
              "      <th>High Temp</th>\n",
              "      <th>Low Temp</th>\n",
              "      <th>Ave Temp</th>\n",
              "      <th>Temp at Launch Time</th>\n",
              "      <th>Hist High Temp</th>\n",
              "      <th>Hist Low Temp</th>\n",
              "      <th>Hist Ave Temp</th>\n",
              "      <th>Percipitation at Launch Time</th>\n",
              "      <th>Hist Ave Percipitation</th>\n",
              "      <th>Wind Direction</th>\n",
              "      <th>Max Wind Speed</th>\n",
              "      <th>Visibility</th>\n",
              "      <th>Wind Speed at Launch Time</th>\n",
              "      <th>Hist Ave Max Wind Speed</th>\n",
              "      <th>Hist Ave Visibility</th>\n",
              "      <th>Sea Level Pressure</th>\n",
              "      <th>Hist Ave Sea Level Pressure</th>\n",
              "      <th>Day Length</th>\n",
              "      <th>Condition</th>\n",
              "      <th>Notes</th>\n",
              "    </tr>\n",
              "  </thead>\n",
              "  <tbody>\n",
              "    <tr>\n",
              "      <th>0</th>\n",
              "      <td>0</td>\n",
              "      <td>1958-12-04</td>\n",
              "      <td>0</td>\n",
              "      <td>Cape Canaveral</td>\n",
              "      <td>1</td>\n",
              "      <td>N</td>\n",
              "      <td>75.0</td>\n",
              "      <td>68.0</td>\n",
              "      <td>71.00</td>\n",
              "      <td>0.0</td>\n",
              "      <td>75.0</td>\n",
              "      <td>55.0</td>\n",
              "      <td>65.0</td>\n",
              "      <td>0.0</td>\n",
              "      <td>0.08</td>\n",
              "      <td>0</td>\n",
              "      <td>16.0</td>\n",
              "      <td>15.0</td>\n",
              "      <td>0.0</td>\n",
              "      <td>0.0</td>\n",
              "      <td>0.0</td>\n",
              "      <td>30.22</td>\n",
              "      <td>0.0</td>\n",
              "      <td>10:26:00</td>\n",
              "      <td>0</td>\n",
              "      <td>0</td>\n",
              "    </tr>\n",
              "    <tr>\n",
              "      <th>1</th>\n",
              "      <td>0</td>\n",
              "      <td>1958-12-05</td>\n",
              "      <td>0</td>\n",
              "      <td>Cape Canaveral</td>\n",
              "      <td>1</td>\n",
              "      <td>N</td>\n",
              "      <td>78.0</td>\n",
              "      <td>70.0</td>\n",
              "      <td>73.39</td>\n",
              "      <td>0.0</td>\n",
              "      <td>75.0</td>\n",
              "      <td>55.0</td>\n",
              "      <td>65.0</td>\n",
              "      <td>0.0</td>\n",
              "      <td>0.09</td>\n",
              "      <td>0</td>\n",
              "      <td>14.0</td>\n",
              "      <td>10.0</td>\n",
              "      <td>0.0</td>\n",
              "      <td>0.0</td>\n",
              "      <td>0.0</td>\n",
              "      <td>30.2</td>\n",
              "      <td>0.0</td>\n",
              "      <td>10:26:00</td>\n",
              "      <td>0</td>\n",
              "      <td>0</td>\n",
              "    </tr>\n",
              "    <tr>\n",
              "      <th>2</th>\n",
              "      <td>Pioneer 3</td>\n",
              "      <td>1958-12-06</td>\n",
              "      <td>01:45:00</td>\n",
              "      <td>Cape Canaveral</td>\n",
              "      <td>1</td>\n",
              "      <td>Y</td>\n",
              "      <td>73.0</td>\n",
              "      <td>0.0</td>\n",
              "      <td>60.21</td>\n",
              "      <td>62.0</td>\n",
              "      <td>75.0</td>\n",
              "      <td>55.0</td>\n",
              "      <td>65.0</td>\n",
              "      <td>0.0</td>\n",
              "      <td>0.09</td>\n",
              "      <td>2</td>\n",
              "      <td>15.0</td>\n",
              "      <td>10.0</td>\n",
              "      <td>11.0</td>\n",
              "      <td>0.0</td>\n",
              "      <td>0.0</td>\n",
              "      <td>30.25</td>\n",
              "      <td>0.0</td>\n",
              "      <td>10:25:00</td>\n",
              "      <td>0</td>\n",
              "      <td>0</td>\n",
              "    </tr>\n",
              "    <tr>\n",
              "      <th>3</th>\n",
              "      <td>0</td>\n",
              "      <td>1958-12-07</td>\n",
              "      <td>0</td>\n",
              "      <td>Cape Canaveral</td>\n",
              "      <td>1</td>\n",
              "      <td>N</td>\n",
              "      <td>76.0</td>\n",
              "      <td>57.0</td>\n",
              "      <td>66.04</td>\n",
              "      <td>0.0</td>\n",
              "      <td>75.0</td>\n",
              "      <td>55.0</td>\n",
              "      <td>65.0</td>\n",
              "      <td>0.0</td>\n",
              "      <td>0.08</td>\n",
              "      <td>1</td>\n",
              "      <td>10.0</td>\n",
              "      <td>10.0</td>\n",
              "      <td>0.0</td>\n",
              "      <td>0.0</td>\n",
              "      <td>0.0</td>\n",
              "      <td>30.28</td>\n",
              "      <td>0.0</td>\n",
              "      <td>10:25:00</td>\n",
              "      <td>6</td>\n",
              "      <td>0</td>\n",
              "    </tr>\n",
              "    <tr>\n",
              "      <th>4</th>\n",
              "      <td>0</td>\n",
              "      <td>1958-12-08</td>\n",
              "      <td>0</td>\n",
              "      <td>Cape Canaveral</td>\n",
              "      <td>1</td>\n",
              "      <td>N</td>\n",
              "      <td>79.0</td>\n",
              "      <td>60.0</td>\n",
              "      <td>70.52</td>\n",
              "      <td>0.0</td>\n",
              "      <td>75.0</td>\n",
              "      <td>55.0</td>\n",
              "      <td>65.0</td>\n",
              "      <td>0.0</td>\n",
              "      <td>0.09</td>\n",
              "      <td>0</td>\n",
              "      <td>12.0</td>\n",
              "      <td>10.0</td>\n",
              "      <td>0.0</td>\n",
              "      <td>0.0</td>\n",
              "      <td>0.0</td>\n",
              "      <td>30.23</td>\n",
              "      <td>0.0</td>\n",
              "      <td>12:24:00</td>\n",
              "      <td>6</td>\n",
              "      <td>0</td>\n",
              "    </tr>\n",
              "  </tbody>\n",
              "</table>\n",
              "</div>"
            ],
            "text/plain": [
              "        Name       Date Time (East Coast)  ... Day Length  Condition Notes\n",
              "0          0 1958-12-04                 0  ...   10:26:00          0     0\n",
              "1          0 1958-12-05                 0  ...   10:26:00          0     0\n",
              "2  Pioneer 3 1958-12-06          01:45:00  ...   10:25:00          0     0\n",
              "3          0 1958-12-07                 0  ...   10:25:00          6     0\n",
              "4          0 1958-12-08                 0  ...   12:24:00          6     0\n",
              "\n",
              "[5 rows x 26 columns]"
            ]
          },
          "metadata": {},
          "execution_count": 8
        }
      ]
    },
    {
      "cell_type": "markdown",
      "metadata": {
        "id": "5UGc7SCyrXov"
      },
      "source": [
        "#FURTHER CLEANING"
      ]
    },
    {
      "cell_type": "code",
      "metadata": {
        "id": "D2CHcQgFrZTO"
      },
      "source": [
        "# First, we save the output we are interested in. In this case, \"launch\" yes and no's go into the output variable.\n",
        "y = launch_data['Launched?']\n",
        "\n",
        "# Removing the columns we are not interested in\n",
        "launch_data.drop(['Name','Date','Time (East Coast)','Location','Launched?','Hist Ave Sea Level Pressure','Sea Level Pressure','Day Length','Notes','Hist Ave Visibility', 'Hist Ave Max Wind Speed'],axis=1, inplace=True)\n",
        "\n",
        "# Saving the rest of the data as input data\n",
        "X = launch_data"
      ],
      "execution_count": 9,
      "outputs": []
    },
    {
      "cell_type": "code",
      "metadata": {
        "colab": {
          "base_uri": "https://localhost:8080/"
        },
        "id": "u4Fxtw58rlZm",
        "outputId": "1bfe60cf-14a7-44c9-9c72-54f201765b80"
      },
      "source": [
        "# List of variables that our machine learning algorithm is going to look at:\n",
        "X.columns"
      ],
      "execution_count": 10,
      "outputs": [
        {
          "output_type": "execute_result",
          "data": {
            "text/plain": [
              "Index(['Crewed or Uncrewed', 'High Temp', 'Low Temp', 'Ave Temp',\n",
              "       'Temp at Launch Time', 'Hist High Temp', 'Hist Low Temp',\n",
              "       'Hist Ave Temp', 'Percipitation at Launch Time',\n",
              "       'Hist Ave Percipitation', 'Wind Direction', 'Max Wind Speed',\n",
              "       'Visibility', 'Wind Speed at Launch Time', 'Condition'],\n",
              "      dtype='object')"
            ]
          },
          "metadata": {},
          "execution_count": 10
        }
      ]
    },
    {
      "cell_type": "markdown",
      "metadata": {
        "id": "k9Gak8bzruyh"
      },
      "source": [
        "Can you predict whether a launch is likely to happen given specific weather conditions? "
      ]
    },
    {
      "cell_type": "markdown",
      "metadata": {
        "id": "BKZkg_dhr0mJ"
      },
      "source": [
        "#CREATE A MACHINE LEARNING MODEL"
      ]
    },
    {
      "cell_type": "code",
      "metadata": {
        "id": "gSxL_yWOrvx4"
      },
      "source": [
        "# Create decision tree classifier \n",
        "tree_model = DecisionTreeClassifier(random_state=0,max_depth=5)"
      ],
      "execution_count": 11,
      "outputs": []
    },
    {
      "cell_type": "markdown",
      "metadata": {
        "id": "RatVencFsG6q"
      },
      "source": [
        "#SPLIT DATA INTO TRAIN AND TEST DATA"
      ]
    },
    {
      "cell_type": "code",
      "metadata": {
        "id": "GhZ0M-qlsLQE"
      },
      "source": [
        "X_train, X_test, y_train, y_test = train_test_split(X,y, test_size=0.2, random_state=99)"
      ],
      "execution_count": 12,
      "outputs": []
    },
    {
      "cell_type": "markdown",
      "metadata": {
        "id": "RynVP5FCsO0i"
      },
      "source": [
        "#FIT THE MODEL"
      ]
    },
    {
      "cell_type": "code",
      "metadata": {
        "colab": {
          "base_uri": "https://localhost:8080/"
        },
        "id": "vV5U3MzxsQLi",
        "outputId": "7dd624df-0987-4f33-ae66-8740af6f0735"
      },
      "source": [
        "# Fitting the model to the training data\n",
        "tree_model.fit(X_train,y_train)"
      ],
      "execution_count": 13,
      "outputs": [
        {
          "output_type": "execute_result",
          "data": {
            "text/plain": [
              "DecisionTreeClassifier(ccp_alpha=0.0, class_weight=None, criterion='gini',\n",
              "                       max_depth=5, max_features=None, max_leaf_nodes=None,\n",
              "                       min_impurity_decrease=0.0, min_impurity_split=None,\n",
              "                       min_samples_leaf=1, min_samples_split=2,\n",
              "                       min_weight_fraction_leaf=0.0, presort='deprecated',\n",
              "                       random_state=0, splitter='best')"
            ]
          },
          "metadata": {},
          "execution_count": 13
        }
      ]
    },
    {
      "cell_type": "markdown",
      "metadata": {
        "id": "wym4o5slsUIR"
      },
      "source": [
        "#TEST THE MODEL"
      ]
    },
    {
      "cell_type": "code",
      "metadata": {
        "colab": {
          "base_uri": "https://localhost:8080/"
        },
        "id": "qNKuiC2dsVvQ",
        "outputId": "d1c7848f-0956-4d82-dab2-4f1a89cead33"
      },
      "source": [
        "# Do prediction on test Data\n",
        "y_pred = tree_model.predict(X_test)\n",
        "print(y_pred)"
      ],
      "execution_count": 14,
      "outputs": [
        {
          "output_type": "stream",
          "name": "stdout",
          "text": [
            "['N' 'N' 'N' 'Y' 'N' 'N' 'N' 'N' 'Y' 'Y' 'N' 'Y' 'N' 'N' 'N' 'N' 'N' 'N'\n",
            " 'N' 'N' 'N' 'N' 'Y' 'Y' 'N' 'N' 'N' 'N' 'N' 'N' 'N' 'Y' 'N' 'N' 'N' 'N'\n",
            " 'N' 'N' 'N' 'N' 'N' 'N' 'Y' 'N' 'N' 'N' 'Y' 'N' 'N' 'N' 'N' 'N' 'N' 'N'\n",
            " 'N' 'N' 'N' 'N' 'N' 'Y']\n"
          ]
        }
      ]
    },
    {
      "cell_type": "markdown",
      "metadata": {
        "id": "FtN3CyyCsZR2"
      },
      "source": [
        "#SCORE THE MODEL"
      ]
    },
    {
      "cell_type": "code",
      "metadata": {
        "colab": {
          "base_uri": "https://localhost:8080/"
        },
        "id": "7nax2RnYsasJ",
        "outputId": "2d549047-1bbb-4d7f-b4fe-6f46e040764a"
      },
      "source": [
        "# Calculate accuracy\n",
        "tree_model.score(X_test,y_test)"
      ],
      "execution_count": 15,
      "outputs": [
        {
          "output_type": "execute_result",
          "data": {
            "text/plain": [
              "0.9833333333333333"
            ]
          },
          "metadata": {},
          "execution_count": 15
        }
      ]
    },
    {
      "cell_type": "markdown",
      "metadata": {
        "id": "sOeM7lu7sjTk"
      },
      "source": [
        "#VISUALISE THE MODEL"
      ]
    },
    {
      "cell_type": "code",
      "metadata": {
        "id": "Ilh8pSdUsleC"
      },
      "source": [
        "# Let's import a library for visualizing our decision tree.\n",
        "from sklearn.tree import export_graphviz\n",
        "\n",
        "def tree_graph_to_png(tree, feature_names,class_names, png_file_to_save):\n",
        "    tree_str = export_graphviz(tree, feature_names=feature_names, class_names=class_names,\n",
        "                                     filled=True, out_file=None)\n",
        "    graph = pydotplus.graph_from_dot_data(tree_str)  \n",
        "    return Image(graph.create_png())"
      ],
      "execution_count": 16,
      "outputs": []
    },
    {
      "cell_type": "code",
      "metadata": {
        "colab": {
          "base_uri": "https://localhost:8080/",
          "height": 436
        },
        "id": "vxxJ-zsGsn-y",
        "outputId": "8ed373fe-7a11-4614-a638-16e5721f8340"
      },
      "source": [
        "# This function takes a machine learning model and visualizes it.\n",
        "tree_graph_to_png(tree=tree_model, feature_names=X.columns.values,class_names=['No Launch','Launch'], png_file_to_save='decision-tree.png')"
      ],
      "execution_count": 17,
      "outputs": [
        {
          "output_type": "execute_result",
          "data": {
            "image/png": "[encoded data removed]",
            "text/plain": [
              "<IPython.core.display.Image object>"
            ]
          },
          "metadata": {},
          "execution_count": 17
        }
      ]
    },
    {
      "cell_type": "code",
      "metadata": {
        "colab": {
          "base_uri": "https://localhost:8080/",
          "height": 80
        },
        "id": "831TSsA1svge",
        "outputId": "687ff5a6-5ac2-4199-aefc-050397477f30"
      },
      "source": [
        "launch_data[(launch_data['Wind Speed at Launch Time'] > 1) & (launch_data['Max Wind Speed'] > 30.5)]"
      ],
      "execution_count": 18,
      "outputs": [
        {
          "output_type": "execute_result",
          "data": {
            "text/html": [
              "<div>\n",
              "<style scoped>\n",
              "    .dataframe tbody tr th:only-of-type {\n",
              "        vertical-align: middle;\n",
              "    }\n",
              "\n",
              "    .dataframe tbody tr th {\n",
              "        vertical-align: top;\n",
              "    }\n",
              "\n",
              "    .dataframe thead th {\n",
              "        text-align: right;\n",
              "    }\n",
              "</style>\n",
              "<table border=\"1\" class=\"dataframe\">\n",
              "  <thead>\n",
              "    <tr style=\"text-align: right;\">\n",
              "      <th></th>\n",
              "      <th>Crewed or Uncrewed</th>\n",
              "      <th>High Temp</th>\n",
              "      <th>Low Temp</th>\n",
              "      <th>Ave Temp</th>\n",
              "      <th>Temp at Launch Time</th>\n",
              "      <th>Hist High Temp</th>\n",
              "      <th>Hist Low Temp</th>\n",
              "      <th>Hist Ave Temp</th>\n",
              "      <th>Percipitation at Launch Time</th>\n",
              "      <th>Hist Ave Percipitation</th>\n",
              "      <th>Wind Direction</th>\n",
              "      <th>Max Wind Speed</th>\n",
              "      <th>Visibility</th>\n",
              "      <th>Wind Speed at Launch Time</th>\n",
              "      <th>Condition</th>\n",
              "    </tr>\n",
              "  </thead>\n",
              "  <tbody>\n",
              "    <tr>\n",
              "      <th>292</th>\n",
              "      <td>0</td>\n",
              "      <td>86.0</td>\n",
              "      <td>70.0</td>\n",
              "      <td>75.02</td>\n",
              "      <td>74.0</td>\n",
              "      <td>87.0</td>\n",
              "      <td>70.0</td>\n",
              "      <td>79.0</td>\n",
              "      <td>0.28</td>\n",
              "      <td>0.15</td>\n",
              "      <td>4</td>\n",
              "      <td>32.0</td>\n",
              "      <td>10.0</td>\n",
              "      <td>25.0</td>\n",
              "      <td>2</td>\n",
              "    </tr>\n",
              "  </tbody>\n",
              "</table>\n",
              "</div>"
            ],
            "text/plain": [
              "     Crewed or Uncrewed  High Temp  ...  Wind Speed at Launch Time  Condition\n",
              "292                   0       86.0  ...                       25.0          2\n",
              "\n",
              "[1 rows x 15 columns]"
            ]
          },
          "metadata": {},
          "execution_count": 18
        }
      ]
    },
    {
      "cell_type": "markdown",
      "metadata": {
        "id": "oZ64CJyXs5L8"
      },
      "source": [
        "#TEST THE MODEL"
      ]
    },
    {
      "cell_type": "code",
      "metadata": {
        "colab": {
          "base_uri": "https://localhost:8080/"
        },
        "id": "2NZD71ujs6dO",
        "outputId": "fbf56493-3a18-4616-d697-489f280be46c"
      },
      "source": [
        "# ['Crewed or Uncrewed', 'High Temp', 'Low Temp', 'Ave Temp',\n",
        "#        'Temp at Launch Time', 'Hist High Temp', 'Hist Low Temp',\n",
        "#        'Hist Ave Temp', 'Precipitation at Launch Time',\n",
        "#        'Hist Ave Precipitation', 'Wind Direction', 'Max Wind Speed',\n",
        "#        'Visibility', 'Wind Speed at Launch Time', 'Hist Ave Max Wind Speed',\n",
        "#        'Hist Ave Visibility', 'Condition']\n",
        "\n",
        "data_input = [ 1.  , 75.  , 68.  , 71.  ,  0.  , 75.  , 55.  , 65.  ,  0.  , 0.08,  0.  , 16.  , 15.  ,  0.  ,  0. ]\n",
        "\n",
        "tree_model.predict([data_input])"
      ],
      "execution_count": 19,
      "outputs": [
        {
          "output_type": "execute_result",
          "data": {
            "text/plain": [
              "array(['N'], dtype=object)"
            ]
          },
          "metadata": {},
          "execution_count": 19
        }
      ]
    }
  ]
}